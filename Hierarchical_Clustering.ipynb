{
  "nbformat": 4,
  "nbformat_minor": 0,
  "metadata": {
    "colab": {
      "name": "Hierarchical Clustering.ipynb",
      "provenance": [],
      "collapsed_sections": []
    },
    "kernelspec": {
      "name": "python3",
      "display_name": "Python 3"
    }
  },
  "cells": [
    {
      "cell_type": "code",
      "metadata": {
        "id": "raoRMUU4-iev"
      },
      "source": [
        "import numpy as np\r\n",
        "from matplotlib import pyplot as plt\r\n",
        "from scipy.cluster.hierarchy import dendrogram\r\n",
        "from sklearn.datasets import load_iris\r\n",
        "from sklearn.cluster import AgglomerativeClustering\r\n",
        "\r\n",
        "\r\n",
        "def plot_dendrogram(model, **kwargs):\r\n",
        "    # Create linkage matrix and then plot the dendrogram\r\n",
        "\r\n",
        "    # create the counts of samples under each node\r\n",
        "    counts = np.zeros(model.children_.shape[0])\r\n",
        "    n_samples = len(model.labels_)\r\n",
        "    for i, merge in enumerate(model.children_):\r\n",
        "        current_count = 0\r\n",
        "        for child_idx in merge:\r\n",
        "            if child_idx < n_samples:\r\n",
        "                current_count += 1  # leaf node\r\n",
        "            else:\r\n",
        "                current_count += counts[child_idx - n_samples]\r\n",
        "            counts[i] = current_count\r\n",
        "# convert 1d array into 2 d array\r\n",
        "            linkage_matrix = np.column_stack([model.children_, model.distances_,\r\n",
        "                                              counts]).astype(float)\r\n",
        "\r\n",
        "            # Plot the corresponding dendrogram\r\n",
        "            dendrogram(linkage_matrix, **kwargs)\r\n",
        "\r\n",
        "iris = load_iris()\r\n",
        "X = iris.data\r\n",
        "\r\n",
        "        # setting distance_threshold=0 ensures we compute the full tree.\r\n",
        "model = AgglomerativeClustering(distance_threshold=0, n_clusters=None)\r\n",
        "model = model.fit(X)\r\n",
        "plt.title('Hierarchical Clustering Dendrogram')\r\n",
        "# plot the top three levels of the dendrogram\r\n",
        "plot_dendrogram(model, truncate_mode='level', p=3)\r\n",
        "plt.xlabel(\"Number of points in node (or index of point if no parenthesis).\")\r\n",
        "plt.show()"
      ],
      "execution_count": null,
      "outputs": []
    }
  ]
}